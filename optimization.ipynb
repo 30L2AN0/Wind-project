{
 "cells": [
  {
   "attachments": {},
   "cell_type": "markdown",
   "metadata": {},
   "source": [
    "Simple least square solve with u.n_s = v_s.n_s"
   ]
  },
  {
   "cell_type": "code",
   "execution_count": 2,
   "metadata": {},
   "outputs": [],
   "source": [
    "import numpy as np\n",
    "import scipy.optimize"
   ]
  },
  {
   "cell_type": "code",
   "execution_count": 36,
   "metadata": {},
   "outputs": [
    {
     "name": "stdout",
     "output_type": "stream",
     "text": [
      "U:  [0 0 0 0 0 0 0 0 0 0 0 0]\n",
      "N:  [ 1  0  0  1  1  1 -1  0  0 -1 -1 -1]\n",
      "cross product:  [1. 1. 1.]\n",
      "B:  [1. 1. 2.]\n",
      "[1 1 0 1 1 0]\n",
      "[1 0 0 1 1 1]\n",
      "cross product:  [-2. -2. -2.]\n",
      "B:  [1. 1. 2.]\n",
      "[2 2 0 2 2 0]\n",
      "[-1.         -0.49999995 -0.63636365 -1.         -0.90909091 -1.09090909]\n"
     ]
    }
   ],
   "source": [
    "uInit00 = np.array([1, 1])\n",
    "uInit01 = np.array([0, 1])\n",
    "uInit02 = np.array([1, 0])\n",
    "Uinit0 = np.concatenate([uInit00, uInit01, uInit02])\n",
    "uInit10 = np.array([2, 2])\n",
    "uInit11 = np.array([0, 2])\n",
    "uInit12 = np.array([2, 0])\n",
    "Uinit1 = np.concatenate([uInit10, uInit11, uInit12])\n",
    "Uinit = np.concatenate([Uinit0, Uinit1])  # chosen intelligently\n",
    "\n",
    "U = np.array([0]*Uinit.size) # don't know\n",
    "print(\"U: \", U)\n",
    "\n",
    "n00 = np.array([1, 0])\n",
    "n01 = np.array([0, 1])\n",
    "n02 = np.array([1, 1])\n",
    "N0 = np.concatenate([n00, n01, n02])\n",
    "n10 = np.array([-1, 0])\n",
    "n11 = np.array([0, -1])\n",
    "n12 = np.array([-1, -1])\n",
    "N1 = np.concatenate([n10, n11, n12])\n",
    "N = np.concatenate([N0, N1])  # given as such from C++ program\n",
    "\n",
    "print(\"N: \", N)\n",
    "\n",
    "V = N  # given as such from C++ program\n",
    "\n",
    "nbPoints = N0.size // 2  # given as such from C++ program\n",
    "nbFrames = N.size // (2 * nbPoints)  # given as such from C++ program\n",
    "\n",
    "#######################################################\n",
    "\n",
    "\n",
    "for frameId in range(nbFrames):\n",
    "    UinitFrame = Uinit[(2*nbPoints)*frameId:(2*nbPoints)*(frameId+1)]\n",
    "    NFrame = N[(2*nbPoints)*frameId:(2*nbPoints)*(frameId+1)]\n",
    "    VFrame = V[(2*nbPoints)*frameId:(2*nbPoints)*(frameId+1)]\n",
    "    A = np.zeros([nbPoints, 2*nbPoints])\n",
    "    B = np.zeros([nbPoints])\n",
    "    for pointId in range(nbPoints):\n",
    "        A[pointId, 2*pointId:2*(pointId+1)] = NFrame[2*pointId:2*(pointId+1)]\n",
    "        B[pointId] = np.dot(VFrame[2*pointId:2*(pointId+1)],\n",
    "                            NFrame[2*pointId:2*(pointId+1)])\n",
    "\n",
    "    print(\"cross product: \", A @ UinitFrame)\n",
    "    print(\"B: \", B)\n",
    "\n",
    "    cons = ({'type': 'eq', 'fun': lambda x:  A @ x - B})\n",
    "\n",
    "    print(UinitFrame)\n",
    "    if frameId == 0:\n",
    "        Uframe = V[0:2*nbPoints]\n",
    "    else:\n",
    "        def f(x):\n",
    "            timeGradient = x-U[(2*nbPoints)*(frameId-1):(2*nbPoints)*frameId]\n",
    "            firstSpaceDimGradient = x[:2*(nbPoints-1)]-x[2:]\n",
    "            secondSpaceDimGradient = 0 # to modify\n",
    "            spaceGradient = firstSpaceDimGradient + secondSpaceDimGradient\n",
    "            return np.sum(timeGradient**2) + np.sum(spaceGradient**2)\n",
    "        resFrame = scipy.optimize.minimize(f,\n",
    "                                           UinitFrame,\n",
    "                                           constraints=cons)\n",
    "        Uframe = resFrame.x\n",
    "    print(Uframe)\n",
    "    U[(2*nbPoints)*frameId:(2*nbPoints)*(frameId+1)] = Uframe\n"
   ]
  }
 ],
 "metadata": {
  "kernelspec": {
   "display_name": "Python 3",
   "language": "python",
   "name": "python3"
  },
  "language_info": {
   "codemirror_mode": {
    "name": "ipython",
    "version": 3
   },
   "file_extension": ".py",
   "mimetype": "text/x-python",
   "name": "python",
   "nbconvert_exporter": "python",
   "pygments_lexer": "ipython3",
   "version": "3.10.4"
  },
  "orig_nbformat": 4,
  "vscode": {
   "interpreter": {
    "hash": "aee8b7b246df8f9039afb4144a1f6fd8d2ca17a180786b69acc140d282b71a49"
   }
  }
 },
 "nbformat": 4,
 "nbformat_minor": 2
}
