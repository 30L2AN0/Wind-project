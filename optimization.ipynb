{
 "cells": [
  {
   "attachments": {},
   "cell_type": "markdown",
   "metadata": {},
   "source": [
    "Simple least square solve with u.n_s = v_s.n_s"
   ]
  },
  {
   "cell_type": "code",
   "execution_count": 1,
   "metadata": {},
   "outputs": [
    {
     "data": {
      "image/png": "[encoded data removed]",
      "text/plain": [
       "<Figure size 432x288 with 1 Axes>"
      ]
     },
     "metadata": {
      "needs_background": "light"
     },
     "output_type": "display_data"
    }
   ],
   "source": [
    "import numpy as np\n",
    "import scipy.optimize\n",
    "import matplotlib.pyplot as plt\n",
    "\n",
    "V = np.array([[1,1], [-2,2], [4,-7]])\n",
    "origin = np.array([[0, 0, 0],[0, 0, 0]]) # origin point\n",
    "\n",
    "plt.quiver(*origin, V[:,0], V[:,1], color=['r','b','g'], scale=21)\n",
    "plt.show()"
   ]
  },
  {
   "cell_type": "code",
   "execution_count": 3,
   "metadata": {},
   "outputs": [
    {
     "name": "stdout",
     "output_type": "stream",
     "text": [
      "U:  [0 0 0 0 0 0 0 0 0 0 0 0 0 0 0 0]\n",
      "N:  [ 1.          0.          0.          1.          0.70710678  0.70710678\n",
      "  0.70710678 -0.70710678 -1.          0.          0.         -1.\n",
      " -0.70710678  0.70710678 -0.70710678 -0.70710678]\n",
      "cross product:  [1.         1.         0.70710678 0.        ]\n",
      "B:  [1. 1. 1. 1.]\n",
      "[1 1 0 1 1 0 0 0]\n",
      "Uframe [ 1.          0.          0.          1.          0.70710678  0.70710678\n",
      "  0.70710678 -0.70710678]\n"
     ]
    },
    {
     "data": {
      "image/png": "[encoded data removed]",
      "text/plain": [
       "<Figure size 432x288 with 1 Axes>"
      ]
     },
     "metadata": {
      "needs_background": "light"
     },
     "output_type": "display_data"
    },
    {
     "data": {
      "image/png": "[encoded data removed]",
      "text/plain": [
       "<Figure size 432x288 with 1 Axes>"
      ]
     },
     "metadata": {
      "needs_background": "light"
     },
     "output_type": "display_data"
    },
    {
     "name": "stdout",
     "output_type": "stream",
     "text": [
      "cross product:  [-2.         -2.         -1.41421356  0.        ]\n",
      "B:  [1. 1. 1. 1.]\n",
      "[2 2 0 2 2 0 0 0]\n",
      "Uframe [-1.          0.26146661 -0.26111525 -1.         -0.89178046  0.5224331\n",
      " -0.52228997 -0.89192359]\n"
     ]
    },
    {
     "data": {
      "image/png": "[encoded data removed]",
      "text/plain": [
       "<Figure size 432x288 with 1 Axes>"
      ]
     },
     "metadata": {
      "needs_background": "light"
     },
     "output_type": "display_data"
    },
    {
     "data": {
      "image/png": "[encoded data removed]",
      "text/plain": [
       "<Figure size 432x288 with 1 Axes>"
      ]
     },
     "metadata": {
      "needs_background": "light"
     },
     "output_type": "display_data"
    }
   ],
   "source": [
    "uInit00 = np.array([1, 1])\n",
    "uInit01 = np.array([0, 1])\n",
    "uInit02 = np.array([1, 0])\n",
    "uInit03 = np.array([0, 0])\n",
    "Uinit0 = np.concatenate([uInit00, uInit01, uInit02, uInit03])\n",
    "uInit10 = np.array([2, 2])\n",
    "uInit11 = np.array([0, 2])\n",
    "uInit12 = np.array([2, 0])\n",
    "uInit13 = np.array([0, 0])\n",
    "Uinit1 = np.concatenate([uInit10, uInit11, uInit12, uInit13])\n",
    "Uinit = np.concatenate([Uinit0, Uinit1])  # chosen intelligently\n",
    "\n",
    "U = np.array([0]*Uinit.size) # don't know\n",
    "print(\"U: \", U)\n",
    "\n",
    "n00 = np.array([1, 0])\n",
    "n01 = np.array([0, 1])\n",
    "n02 = np.array([np.sqrt(2)/2, np.sqrt(2)/2])\n",
    "n03 = np.array([np.sqrt(2)/2, -np.sqrt(2)/2])\n",
    "N0 = np.concatenate([n00, n01, n02, n03])\n",
    "n10 = np.array([-1, 0])\n",
    "n11 = np.array([0, -1])\n",
    "n12 = np.array([-np.sqrt(2)/2, np.sqrt(2)/2])\n",
    "n13 = np.array([-np.sqrt(2)/2, -np.sqrt(2)/2])\n",
    "N1 = np.concatenate([n10, n11, n12, n13])\n",
    "N = np.concatenate([N0, N1])  # given as such from C++ program\n",
    "\n",
    "\n",
    "print(\"N: \", N)\n",
    "\n",
    "V = N  # given as such from C++ program\n",
    "\n",
    "nbPoints = N0.size // 2  # given as such from C++ program\n",
    "nbLines = 2\n",
    "nbColumns = 2\n",
    "nbFrames = N.size // (2 * nbPoints)  # can be deducted\n",
    "\n",
    "origins = np.array([[i for i in range(nbPoints)], [0]*nbPoints])\n",
    "\n",
    "#######################################################\n",
    "\n",
    "\n",
    "for frameId in range(nbFrames):\n",
    "    UinitFrame = Uinit[(2*nbPoints)*frameId:(2*nbPoints)*(frameId+1)]\n",
    "    NFrame = N[(2*nbPoints)*frameId:(2*nbPoints)*(frameId+1)]\n",
    "    VFrame = V[(2*nbPoints)*frameId:(2*nbPoints)*(frameId+1)]\n",
    "    A = np.zeros([nbPoints, 2*nbPoints])\n",
    "    B = np.zeros([nbPoints])\n",
    "    for pointId in range(nbPoints):\n",
    "        A[pointId, 2*pointId:2*(pointId+1)] = NFrame[2*pointId:2*(pointId+1)]\n",
    "        B[pointId] = np.dot(VFrame[2*pointId:2*(pointId+1)],\n",
    "                            NFrame[2*pointId:2*(pointId+1)])\n",
    "\n",
    "    print(\"cross product: \", A @ UinitFrame)\n",
    "    print(\"B: \", B)\n",
    "\n",
    "    cons = ({'type': 'eq', 'fun': lambda x:  A @ x - B})\n",
    "\n",
    "    print(UinitFrame)\n",
    "    if frameId == 0:\n",
    "        Uframe = V[0:2*nbPoints]\n",
    "    else:\n",
    "        def f(x):\n",
    "            timeGradient = x-U[(2*nbPoints)*(frameId-1):(2*nbPoints)*frameId]\n",
    "            firstSpaceDimGradient = x[:2*(nbPoints-nbColumns)]-x[2*nbColumns:]\n",
    "            xWithoutFirtCol = np.array([x[i] for i in range(2 * nbPoints) if i%(2*nbLines)!=0 and i%(2*nbLines)!=1])\n",
    "            # print(\"xWithoutFirtCol\", xWithoutFirtCol)\n",
    "            xWithoutLastCol = np.array([x[i] for i in range(2 * nbPoints) if i%(2*nbLines)!=(nbLines-2) and i%(2*nbLines)!=(nbLines-1)])\n",
    "            secondSpaceDimGradient = xWithoutLastCol - xWithoutFirtCol\n",
    "            spaceGradient = firstSpaceDimGradient + secondSpaceDimGradient\n",
    "            return np.sum(timeGradient**2) + np.sum(spaceGradient**2)\n",
    "        resFrame = scipy.optimize.minimize(f,\n",
    "                                           UinitFrame,\n",
    "                                           constraints=cons)\n",
    "        Uframe = resFrame.x\n",
    "    print(\"Uframe\", Uframe)\n",
    "    plt.quiver(*origins, np.array([NFrame[i] for i in range(2*nbPoints) if i%2==0]),\n",
    "                         np.array([NFrame[i] for i in range(2*nbPoints) if i%2==1]), color=['r','b','g'], scale=21)\n",
    "    plt.show()\n",
    "    plt.quiver(*origins, np.array([Uframe[i] for i in range(2*nbPoints) if i%2==0]),\n",
    "                         np.array([Uframe[i] for i in range(2*nbPoints) if i%2==1]), color=['r','b','g'], scale=21)\n",
    "    plt.show()\n",
    "    U[(2*nbPoints)*frameId:(2*nbPoints)*(frameId+1)] = Uframe\n"
   ]
  },
  {
   "cell_type": "code",
   "execution_count": null,
   "metadata": {},
   "outputs": [],
   "source": []
  }
 ],
 "metadata": {
  "kernelspec": {
   "display_name": "Python 3",
   "language": "python",
   "name": "python3"
  },
  "language_info": {
   "codemirror_mode": {
    "name": "ipython",
    "version": 3
   },
   "file_extension": ".py",
   "mimetype": "text/x-python",
   "name": "python",
   "nbconvert_exporter": "python",
   "pygments_lexer": "ipython3",
   "version": "3.9.2 (default, Feb 28 2021, 17:03:44) \n[GCC 10.2.1 20210110]"
  },
  "orig_nbformat": 4,
  "vscode": {
   "interpreter": {
    "hash": "916dbcbb3f70747c44a77c7bcd40155683ae19c65e1c03b4aa3499c5328201f1"
   }
  }
 },
 "nbformat": 4,
 "nbformat_minor": 2
}
