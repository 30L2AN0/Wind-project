{
 "cells": [
  {
   "attachments": {},
   "cell_type": "markdown",
   "metadata": {},
   "source": [
    "Simple least square solve with u.n_s = v_s.n_s"
   ]
  },
  {
   "cell_type": "code",
   "execution_count": 9,
   "metadata": {},
   "outputs": [],
   "source": [
    "import numpy as np\n",
    "import scipy.optimize"
   ]
  },
  {
   "cell_type": "code",
   "execution_count": 37,
   "metadata": {},
   "outputs": [
    {
     "name": "stdout",
     "output_type": "stream",
     "text": [
      "[1. 1. 1.]\n",
      "[1. 1. 1.]\n"
     ]
    },
    {
     "data": {
      "text/plain": [
       "     fun: 3.0\n",
       "     jac: array([2., 0., 0., 0., 2., 0., 0., 0., 2.])\n",
       " message: 'Optimization terminated successfully'\n",
       "    nfev: 21\n",
       "     nit: 2\n",
       "    njev: 2\n",
       "  status: 0\n",
       " success: True\n",
       "       x: array([1., 0., 0., 0., 1., 0., 0., 0., 1.])"
      ]
     },
     "execution_count": 37,
     "metadata": {},
     "output_type": "execute_result"
    }
   ],
   "source": [
    "u0 = np.array([1, 1, 0])\n",
    "u1 = np.array([0, 1, 1])\n",
    "u2 = np.array([1, 0, 1])\n",
    "U = np.concatenate([u0, u1, u2]) # given as such from C++ program\n",
    "\n",
    "n0 = np.array([1, 0, 0])\n",
    "n1 = np.array([0, 1, 0])\n",
    "n2 = np.array([0, 0, 1])\n",
    "N = np.concatenate([n0, n1, n2]) # given as such from C++ program\n",
    "\n",
    "V = N # given as such from C++ program\n",
    "\n",
    "#######################################################\n",
    "\n",
    "nU = U.size // 3\n",
    "A = np.zeros([nU, 3 * nU])\n",
    "B = np.zeros([nU])\n",
    "for row in range(nU):\n",
    "    A[row, 3*row : 3*(row+1)] = N[3*row : 3*(row+1)]\n",
    "    B[row] = np.dot(V[3*row:3*(row+1)], N[3*row:3*(row+1)])\n",
    "\n",
    "print(A @ U)\n",
    "print(B)\n",
    "\n",
    "cons = ({'type': 'eq', 'fun': lambda x:  A @ x - B})\n",
    "\n",
    "def f(x):\n",
    "    return np.sum(x**2)\n",
    "\n",
    "scipy.optimize.minimize(f, U, constraints=cons)"
   ]
  }
 ],
 "metadata": {
  "kernelspec": {
   "display_name": "Python 3",
   "language": "python",
   "name": "python3"
  },
  "language_info": {
   "codemirror_mode": {
    "name": "ipython",
    "version": 3
   },
   "file_extension": ".py",
   "mimetype": "text/x-python",
   "name": "python",
   "nbconvert_exporter": "python",
   "pygments_lexer": "ipython3",
   "version": "3.10.4"
  },
  "orig_nbformat": 4,
  "vscode": {
   "interpreter": {
    "hash": "aee8b7b246df8f9039afb4144a1f6fd8d2ca17a180786b69acc140d282b71a49"
   }
  }
 },
 "nbformat": 4,
 "nbformat_minor": 2
}
